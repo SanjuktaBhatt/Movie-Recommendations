{
  "nbformat": 4,
  "nbformat_minor": 0,
  "metadata": {
    "colab": {
      "provenance": [],
      "include_colab_link": true
    },
    "kernelspec": {
      "name": "python3",
      "display_name": "Python 3"
    },
    "language_info": {
      "name": "python"
    }
  },
  "cells": [
    {
      "cell_type": "markdown",
      "metadata": {
        "id": "view-in-github",
        "colab_type": "text"
      },
      "source": [
        "<a href=\"https://colab.research.google.com/github/SanjuktaBhatt/Movie-Recommendations/blob/main/APT_C0_Challenge_1_Class_Copy.ipynb\" target=\"_parent\"><img src=\"https://colab.research.google.com/assets/colab-badge.svg\" alt=\"Open In Colab\"/></a>"
      ]
    },
    {
      "cell_type": "markdown",
      "source": [
        "<img src=\"https://s3-whjr-curriculum-uploads.whjr.online/1e74673e-c8ea-48ed-932d-9a85405a1821.png\" align= left height=50 hspace=10>\n",
        "\n",
        "## <font color=\"#EF5B81\">**Challenge 1: Build your own Genre Recommender** </font>"
      ],
      "metadata": {
        "id": "7r2rkLlIacRJ"
      }
    },
    {
      "cell_type": "markdown",
      "source": [
        "### In this challenge you will build a genre-based movie recommender: \n",
        "\n",
        "\n",
        "<center><img src =\"https://s3-whjr-curriculum-uploads.whjr.online/9b705a3a-5561-4842-ab59-3709d75f77af.png\" height=400/></center>"
      ],
      "metadata": {
        "id": "ruMMHvqXKoSR"
      }
    },
    {
      "cell_type": "markdown",
      "source": [
        "In order to complete today's challenge , we're going to learn how to use **Python** to work with data. <br>\n",
        "<b>Why is Python a preferred language for data analysis? </b>\n",
        "<center><img src=\"https://s3-whjr-curriculum-uploads.whjr.online/155219aa-40ae-47c4-893f-7e0c688c43cf.png\" width=500 height=300/></center>\n",
        "\n",
        "The platform you're using now to learn Python is called **Google Colab**."
      ],
      "metadata": {
        "id": "6QmGBUksS8ZK"
      }
    },
    {
      "cell_type": "markdown",
      "source": [
        "### <font color=\"#1689E3\">**Run Source Code** </font>"
      ],
      "metadata": {
        "id": "dei9wpiIa1E8"
      }
    },
    {
      "cell_type": "code",
      "source": [
        "#@title\n",
        "import pandas as pd\n",
        "import warnings\n",
        "warnings.filterwarnings(\"ignore\")\n",
        "path=\"https://s3-whjr-curriculum-uploads.whjr.online/24f0d878-6a68-41e8-a4c5-88de15e55b0d.csv\"\n",
        "data=pd.read_csv(path)\n",
        "\n",
        "def top10(filter):\n",
        "  return filter[\"title\"].unique().tolist()[:10]"
      ],
      "metadata": {
        "id": "Ta4lj6mG-uQ6",
        "cellView": "form"
      },
      "execution_count": null,
      "outputs": []
    },
    {
      "cell_type": "markdown",
      "source": [
        "Let's start analysing the movies data!"
      ],
      "metadata": {
        "id": "-dPeNvdOv_3G"
      }
    },
    {
      "cell_type": "markdown",
      "source": [
        "### <font color=\"#1689E3 \">**Student Activity 1 : View the data** </font>\n",
        "\n",
        "To view the data, lets use: <br>\n",
        "<font color='#E31180'>**`data.head()`**</font>"
      ],
      "metadata": {
        "id": "ZfNaIBa2_vmW"
      }
    },
    {
      "cell_type": "code",
      "source": [
        "#Code to view the data\n"
      ],
      "metadata": {
        "id": "M9b8tuls-M1O"
      },
      "execution_count": null,
      "outputs": []
    },
    {
      "cell_type": "markdown",
      "source": [
        "### <font color=\"#1689E3 \">**Student Activity 2: Sort the data**</font>\n",
        "\n",
        "**What sort of movies are generally good to recommend?**\n",
        "\n",
        "Top-rated movies!\n",
        "\n",
        "\n",
        "To find the top-rated movies, we need to sort the data based on the column named 'rating' in descending order and store it in the same container: <br>\n",
        "<font color='#E31180'>**`data=data.sort_values(by=\"rating\",ascending=False)`**</font>"
      ],
      "metadata": {
        "id": "fKxY_tjYrNUl"
      }
    },
    {
      "cell_type": "code",
      "source": [
        "#Complete the code to sort the data based on ratings\n",
        "data=data.sort_values()\n"
      ],
      "metadata": {
        "id": "BJSsMQQ2-bQv"
      },
      "execution_count": null,
      "outputs": []
    },
    {
      "cell_type": "markdown",
      "source": [
        "<center><img src=\"https://s3-whjr-curriculum-uploads.whjr.online/6cc1ff48-88f4-4e14-8f56-079b81c144ec.png\" height=300></center>"
      ],
      "metadata": {
        "id": "FCxfcaFt2t28"
      }
    },
    {
      "cell_type": "markdown",
      "source": [
        "### <font color=\"#1689E3 \">**Student Activity 3: Query and select the data**</font>\n",
        "<center><img src=\"https://s3-whjr-curriculum-uploads.whjr.online/6776506e-7904-4b3d-973f-2fffedd7f718.gif\" height =350/></center>"
      ],
      "metadata": {
        "id": "rslB3liT37FG"
      }
    },
    {
      "cell_type": "markdown",
      "source": [
        "To select only the data having `genre` value as `Drama`, we use <br> <font color='#E31180'>**`data=data.query('genre==\"Drama\"')`**</font>"
      ],
      "metadata": {
        "id": "95IExQcdjKGY"
      }
    },
    {
      "cell_type": "code",
      "source": [
        "# Query and select the data\n",
        "\n"
      ],
      "metadata": {
        "id": "m17p3UUh_MgV"
      },
      "execution_count": null,
      "outputs": []
    },
    {
      "cell_type": "markdown",
      "source": [
        "**Querying and selecting specific data**\n",
        "<center><img src=\"https://s3-whjr-curriculum-uploads.whjr.online/b9d87454-b487-45f4-a80f-d8c253d849aa.png\" height=350/></center>"
      ],
      "metadata": {
        "id": "v0c6a2UXiydn"
      }
    },
    {
      "cell_type": "markdown",
      "source": [
        "To get the top 10 movies from the data, we use <br> <font color='#E31180'>**`top10(data)`**</font>"
      ],
      "metadata": {
        "id": "eqCBzq8zhJxj"
      }
    },
    {
      "cell_type": "code",
      "source": [
        "# Code to get the top 10 movies\n"
      ],
      "metadata": {
        "id": "ERNYwYgjBfQs"
      },
      "execution_count": null,
      "outputs": []
    },
    {
      "cell_type": "markdown",
      "source": [
        "*Note: `top10()` is a pre-defined tool already created to select the top 10 movies in the provided data.*"
      ],
      "metadata": {
        "id": "e8uXy0GhhXzf"
      }
    },
    {
      "cell_type": "markdown",
      "source": [
        "#### <font color='#E31180'>**Congratulations! You have analysed the movie data and learned to write the code for making genre-based movie recommendations!** </font>"
      ],
      "metadata": {
        "id": "OdWTS7ENDvyR"
      }
    },
    {
      "cell_type": "markdown",
      "source": [
        "\n",
        "## <font color=\"#1689E3\">**Quick Recap:**</font><font color='#E47009'> \n",
        "|||\n",
        "|-|-|\n",
        "|**Dataframes**|A dataframe in Python is like a digital table, where data is organized in rows and columns|\n",
        "|||\n",
        "|**`head()`**|Used to display the first 5 rows of the dataframe.|\n",
        "|||\n",
        "|**`sort_values()`**|Used to sort a DataFrame based on the values of the specific column.|\n",
        "|||\n",
        "|**`query()`**|Used to query the dataframe and select a specific data.|\n",
        "|||\n",
        "</font>\n",
        "\n"
      ],
      "metadata": {
        "id": "ckURnHTAIggO"
      }
    }
  ]
}